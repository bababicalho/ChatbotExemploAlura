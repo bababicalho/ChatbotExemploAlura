{
  "nbformat": 4,
  "nbformat_minor": 0,
  "metadata": {
    "colab": {
      "provenance": [],
      "authorship_tag": "ABX9TyNFN4DUvuqKC2kLOI11j4Ch",
      "include_colab_link": true
    },
    "kernelspec": {
      "name": "python3",
      "display_name": "Python 3"
    },
    "language_info": {
      "name": "python"
    }
  },
  "cells": [
    {
      "cell_type": "markdown",
      "metadata": {
        "id": "view-in-github",
        "colab_type": "text"
      },
      "source": [
        "<a href=\"https://colab.research.google.com/github/bababicalho/ChatbotExemploAlura/blob/main/ChatbotExemploAlura.ipynb\" target=\"_parent\"><img src=\"https://colab.research.google.com/assets/colab-badge.svg\" alt=\"Open In Colab\"/></a>"
      ]
    },
    {
      "cell_type": "markdown",
      "source": [
        "Instalando o SDK do Google"
      ],
      "metadata": {
        "id": "whmr_xkvqUKz"
      }
    },
    {
      "cell_type": "code",
      "execution_count": 1,
      "metadata": {
        "id": "GMASlkGlmbO3"
      },
      "outputs": [],
      "source": [
        "!pip install -q -U google-generativeai"
      ]
    },
    {
      "cell_type": "code",
      "source": [
        "import google.generativeai as genai\n",
        "\n",
        "from google.colab import userdata\n",
        "api_key = userdata.get(\"SECRET_KEY\")\n",
        "\n",
        "genai.configure(api_key=api_key)"
      ],
      "metadata": {
        "id": "Kmfcc4vRqsqq"
      },
      "execution_count": 2,
      "outputs": []
    },
    {
      "cell_type": "markdown",
      "source": [
        "Listar os modelos disponíveis"
      ],
      "metadata": {
        "id": "k_0A6p4Hq1pu"
      }
    },
    {
      "cell_type": "code",
      "source": [
        "for m in genai.list_models():\n",
        "  if 'generateContent' in m.supported_generation_methods:\n",
        "    print(m.name)"
      ],
      "metadata": {
        "colab": {
          "base_uri": "https://localhost:8080/",
          "height": 138
        },
        "id": "u30d4EQiqxgP",
        "outputId": "379eaf22-3fd3-47f9-ec44-127ea4a0797e"
      },
      "execution_count": 3,
      "outputs": [
        {
          "output_type": "stream",
          "name": "stdout",
          "text": [
            "models/gemini-1.0-pro\n",
            "models/gemini-1.0-pro-001\n",
            "models/gemini-1.0-pro-latest\n",
            "models/gemini-1.0-pro-vision-latest\n",
            "models/gemini-1.5-pro-latest\n",
            "models/gemini-pro\n",
            "models/gemini-pro-vision\n"
          ]
        }
      ]
    },
    {
      "cell_type": "markdown",
      "source": [
        "Configurando a temperatura para a escolha de palavras"
      ],
      "metadata": {
        "id": "1cTWHWfIvN5W"
      }
    },
    {
      "cell_type": "code",
      "source": [
        "generation_config = {\n",
        "    \"candidate_count\": 1,\n",
        "    \"temperature\":0.5,\n",
        "}"
      ],
      "metadata": {
        "id": "I9Vsk4zys_Me"
      },
      "execution_count": 4,
      "outputs": []
    },
    {
      "cell_type": "markdown",
      "source": [
        "Configurando níveis de segurança"
      ],
      "metadata": {
        "id": "_5CpdsQ4vZzc"
      }
    },
    {
      "cell_type": "code",
      "source": [
        "safety_settings = {\n",
        "    \"HARASSMENT\": \"BLOCK_NONE\",\n",
        "    \"HATE\": \"BLOCK_NONE\",\n",
        "    \"SEXUAL\": \"BLOCK_NONE\",\n",
        "    \"DANGEROUS\": \"BLOCK_NONE\",\n",
        "}"
      ],
      "metadata": {
        "id": "5B581BIzuOsR"
      },
      "execution_count": 12,
      "outputs": []
    },
    {
      "cell_type": "markdown",
      "source": [
        "Inicializando o modelo"
      ],
      "metadata": {
        "id": "hk5K571ywE9N"
      }
    },
    {
      "cell_type": "code",
      "source": [
        "model = genai.GenerativeModel(model_name=\"gemini-1.0-pro\",\n",
        "                              generation_config=generation_config,\n",
        "                              safety_settings=safety_settings)"
      ],
      "metadata": {
        "id": "lPaLvt7jwHLm"
      },
      "execution_count": 13,
      "outputs": []
    },
    {
      "cell_type": "code",
      "source": [
        "response = model.generate_content(\"Pergunta: Você consegue calcular área de um objeto em uma imagem?\")\n",
        "print(response.text)"
      ],
      "metadata": {
        "colab": {
          "base_uri": "https://localhost:8080/",
          "height": 558
        },
        "id": "cHM0tJRExjHR",
        "outputId": "5072ac93-f0b3-46d9-f4f8-aa8c1fc019fa"
      },
      "execution_count": 14,
      "outputs": [
        {
          "output_type": "stream",
          "name": "stdout",
          "text": [
            "Sim, é possível calcular a área de um objeto em uma imagem usando técnicas de processamento de imagem. Aqui está um método geral:\n",
            "\n",
            "**1. Segmentação de Objeto:**\n",
            "\n",
            "* Segmente o objeto de interesse da imagem de fundo. Isso pode ser feito usando técnicas como segmentação de limiar, agrupamento de regiões ou redes neurais.\n",
            "\n",
            "**2. Detecção de Contorno:**\n",
            "\n",
            "* Detecta o contorno do objeto segmentado. Isso pode ser feito usando algoritmos como o algoritmo de Canny ou o algoritmo de Hough.\n",
            "\n",
            "**3. Cálculo da Área:**\n",
            "\n",
            "* Calcula a área do objeto usando o contorno detectado. Isso pode ser feito usando fórmulas geométricas ou técnicas como o algoritmo de shoelace.\n",
            "\n",
            "**Fórmulas para Cálculo de Área:**\n",
            "\n",
            "* **Polígono:** Área = 0,5 * |(x1*y2 + x2*y3 + ... + xn*y1) - (y1*x2 + y2*x3 + ... + yn*x1)|\n",
            "* **Elipse:** Área = π * raio_maior * raio_menor\n",
            "* **Retângulo:** Área = comprimento * largura\n",
            "* **Círculo:** Área = π * raio²\n",
            "\n",
            "**Bibliotecas e Ferramentas:**\n",
            "\n",
            "* Bibliotecas de processamento de imagem como OpenCV, PIL ou scikit-image\n",
            "* Ferramentas de software como ImageJ ou GIMP\n",
            "\n",
            "**Observações:**\n",
            "\n",
            "* A precisão do cálculo da área depende da precisão da segmentação do objeto.\n",
            "* Para objetos complexos ou com bordas irregulares, pode ser necessário usar técnicas mais avançadas, como redes neurais convolucionais (CNNs).\n"
          ]
        }
      ]
    },
    {
      "cell_type": "code",
      "source": [
        "chat = model.start_chat(history=[])"
      ],
      "metadata": {
        "id": "4coEe96syC0f"
      },
      "execution_count": 15,
      "outputs": []
    },
    {
      "cell_type": "code",
      "source": [
        "prompt = input(\"Esperando prompt: \")\n",
        "\n",
        "while prompt != \"fim\":\n",
        "  response = chat.send_message(prompt)\n",
        "  print(\"Resposta: \", response.text, \"\\n\")\n",
        "  prompt = input(\"Esperando prompt\")"
      ],
      "metadata": {
        "colab": {
          "base_uri": "https://localhost:8080/",
          "height": 800
        },
        "id": "4hRl6GqlyhE4",
        "outputId": "e6fc0ff9-706e-441b-d8bf-85833533bb9d"
      },
      "execution_count": 18,
      "outputs": [
        {
          "name": "stdout",
          "output_type": "stream",
          "text": [
            "Esperando prompt: Estou fazendo um teste\n",
            "Resposta:  **Teste sobre Belo Horizonte**\n",
            "\n",
            "**Pergunta:** Qual é a capital de Minas Gerais?\n",
            "\n",
            "**Resposta:** Belo Horizonte\n",
            "\n",
            "**Pergunta:** Cite um ponto turístico famoso de Belo Horizonte.\n",
            "\n",
            "**Resposta:** Praça da Liberdade, Conjunto Arquitetônico da Pampulha, Mercado Central, Parque Municipal, Museu das Minas e do Metal, Museu de Arte da Pampulha, Estádio Mineirão, Rua Sapucaí, Feira Hippie da Afonso Pena, Bairro Savassi (qualquer um desses é uma resposta aceitável)\n",
            "\n",
            "**Pergunta:** Quem projetou o Conjunto Arquitetônico da Pampulha?\n",
            "\n",
            "**Resposta:** Oscar Niemeyer\n",
            "\n",
            "**Pergunta:** Qual é o nome do grande parque urbano de Belo Horizonte?\n",
            "\n",
            "**Resposta:** Parque Municipal\n",
            "\n",
            "**Pergunta:** Em que rua fica a movimentada vida noturna de Belo Horizonte?\n",
            "\n",
            "**Resposta:** Rua Sapucaí\n",
            "\n",
            "**Pergunta:** Qual é o nome do museu que exibe a história da mineração e da metalurgia em Minas Gerais?\n",
            "\n",
            "**Resposta:** Museu das Minas e do Metal\n",
            "\n",
            "**Pergunta:** Qual é o nome do estádio de futebol de Belo Horizonte que sediou jogos da Copa do Mundo da FIFA?\n",
            "\n",
            "**Resposta:** Estádio Mineirão\n",
            "\n",
            "**Pergunta:** Em que dia da semana acontece a Feira Hippie da Afonso Pena?\n",
            "\n",
            "**Resposta:** Domingos\n",
            "\n",
            "**Pergunta:** Qual é o bairro elegante de Belo Horizonte conhecido por suas lojas, restaurantes e galerias de arte?\n",
            "\n",
            "**Resposta:** Bairro Savassi\n",
            "\n",
            "**Pergunta:** Qual é o nome da ampla praça pública com jardins bem cuidados, museus e prédios históricos em Belo Horizonte?\n",
            "\n",
            "**Resposta:** Praça da Liberdade \n",
            "\n",
            "Esperando promptfim\n"
          ]
        }
      ]
    },
    {
      "cell_type": "code",
      "source": [
        "chat"
      ],
      "metadata": {
        "colab": {
          "base_uri": "https://localhost:8080/"
        },
        "id": "lUacAbDiGx19",
        "outputId": "32172081-15fe-4d01-bdbd-f07a8e2abd22"
      },
      "execution_count": 19,
      "outputs": [
        {
          "output_type": "execute_result",
          "data": {
            "text/plain": [
              "ChatSession(\n",
              "    model=genai.GenerativeModel(\n",
              "        model_name='models/gemini-1.0-pro',\n",
              "        generation_config={'candidate_count': 1, 'temperature': 0.5},\n",
              "        safety_settings={<HarmCategory.HARM_CATEGORY_HARASSMENT: 7>: <HarmBlockThreshold.BLOCK_NONE: 4>, <HarmCategory.HARM_CATEGORY_HATE_SPEECH: 8>: <HarmBlockThreshold.BLOCK_NONE: 4>, <HarmCategory.HARM_CATEGORY_SEXUALLY_EXPLICIT: 9>: <HarmBlockThreshold.BLOCK_NONE: 4>, <HarmCategory.HARM_CATEGORY_DANGEROUS_CONTENT: 10>: <HarmBlockThreshold.BLOCK_NONE: 4>},\n",
              "        tools=None,\n",
              "        system_instruction=None,\n",
              "    ),\n",
              "    history=[glm.Content({'parts': [{'text': 'Qual a capit...minas gerais?'}], 'role': 'user'}), glm.Content({'parts': [{'text': 'Belo Horizonte'}], 'role': 'model'}), glm.Content({'parts': [{'text': 'Quais os pon...eria visitar?'}], 'role': 'user'}), glm.Content({'parts': [{'text': '**Principais...rias de arte.'}], 'role': 'model'}), glm.Content({'parts': [{'text': 'Estou fazendo um teste'}], 'role': 'user'}), glm.Content({'parts': [{'text': '**Teste sobr... da Liberdade'}], 'role': 'model'})]\n",
              ")"
            ]
          },
          "metadata": {},
          "execution_count": 19
        }
      ]
    },
    {
      "cell_type": "code",
      "source": [
        "chat.history"
      ],
      "metadata": {
        "colab": {
          "base_uri": "https://localhost:8080/"
        },
        "id": "JBE4Z_zIG-Wr",
        "outputId": "3eb8e479-485a-42c4-976e-42370b36d087"
      },
      "execution_count": 20,
      "outputs": [
        {
          "output_type": "execute_result",
          "data": {
            "text/plain": [
              "[parts {\n",
              "   text: \"Qual a capital de minas gerais?\"\n",
              " }\n",
              " role: \"user\",\n",
              " parts {\n",
              "   text: \"Belo Horizonte\"\n",
              " }\n",
              " role: \"model\",\n",
              " parts {\n",
              "   text: \"Quais os pontos tur\\303\\255sticos deveria visitar?\"\n",
              " }\n",
              " role: \"user\",\n",
              " parts {\n",
              "   text: \"**Principais pontos tur\\303\\255sticos de Belo Horizonte:**\\n\\n* **Pra\\303\\247a da Liberdade:** Um amplo espa\\303\\247o p\\303\\272blico com jardins bem cuidados, museus e pr\\303\\251dios hist\\303\\263ricos.\\n* **Conjunto Arquitet\\303\\264nico da Pampulha:** Um complexo modernista projetado por Oscar Niemeyer, incluindo a Igreja de S\\303\\243o Francisco de Assis e o Museu de Arte da Pampulha.\\n* **Mercado Central:** Um movimentado mercado com uma ampla variedade de produtos locais, artesanato e iguarias.\\n* **Parque Municipal:** Um vasto parque urbano com trilhas para caminhada, lagos e jardins bot\\303\\242nicos.\\n* **Museu das Minas e do Metal:** Um museu que exibe a hist\\303\\263ria da minera\\303\\247\\303\\243o e da metalurgia em Minas Gerais.\\n* **Museu de Arte da Pampulha:** Um museu de arte moderna e contempor\\303\\242nea localizado no Conjunto Arquitet\\303\\264nico da Pampulha.\\n* **Est\\303\\241dio Mineir\\303\\243o:** Um dos maiores est\\303\\241dios de futebol do Brasil, que sediou jogos da Copa do Mundo da FIFA.\\n* **Rua Sapuca\\303\\255:** Uma rua movimentada conhecida por sua vida noturna e bares.\\n* **Feira Hippie da Afonso Pena:** Uma feira de artesanato e produtos locais realizada aos domingos.\\n* **Bairro Savassi:** Um bairro elegante com lojas, restaurantes e galerias de arte.\"\n",
              " }\n",
              " role: \"model\",\n",
              " parts {\n",
              "   text: \"Estou fazendo um teste\"\n",
              " }\n",
              " role: \"user\",\n",
              " parts {\n",
              "   text: \"**Teste sobre Belo Horizonte**\\n\\n**Pergunta:** Qual \\303\\251 a capital de Minas Gerais?\\n\\n**Resposta:** Belo Horizonte\\n\\n**Pergunta:** Cite um ponto tur\\303\\255stico famoso de Belo Horizonte.\\n\\n**Resposta:** Pra\\303\\247a da Liberdade, Conjunto Arquitet\\303\\264nico da Pampulha, Mercado Central, Parque Municipal, Museu das Minas e do Metal, Museu de Arte da Pampulha, Est\\303\\241dio Mineir\\303\\243o, Rua Sapuca\\303\\255, Feira Hippie da Afonso Pena, Bairro Savassi (qualquer um desses \\303\\251 uma resposta aceit\\303\\241vel)\\n\\n**Pergunta:** Quem projetou o Conjunto Arquitet\\303\\264nico da Pampulha?\\n\\n**Resposta:** Oscar Niemeyer\\n\\n**Pergunta:** Qual \\303\\251 o nome do grande parque urbano de Belo Horizonte?\\n\\n**Resposta:** Parque Municipal\\n\\n**Pergunta:** Em que rua fica a movimentada vida noturna de Belo Horizonte?\\n\\n**Resposta:** Rua Sapuca\\303\\255\\n\\n**Pergunta:** Qual \\303\\251 o nome do museu que exibe a hist\\303\\263ria da minera\\303\\247\\303\\243o e da metalurgia em Minas Gerais?\\n\\n**Resposta:** Museu das Minas e do Metal\\n\\n**Pergunta:** Qual \\303\\251 o nome do est\\303\\241dio de futebol de Belo Horizonte que sediou jogos da Copa do Mundo da FIFA?\\n\\n**Resposta:** Est\\303\\241dio Mineir\\303\\243o\\n\\n**Pergunta:** Em que dia da semana acontece a Feira Hippie da Afonso Pena?\\n\\n**Resposta:** Domingos\\n\\n**Pergunta:** Qual \\303\\251 o bairro elegante de Belo Horizonte conhecido por suas lojas, restaurantes e galerias de arte?\\n\\n**Resposta:** Bairro Savassi\\n\\n**Pergunta:** Qual \\303\\251 o nome da ampla pra\\303\\247a p\\303\\272blica com jardins bem cuidados, museus e pr\\303\\251dios hist\\303\\263ricos em Belo Horizonte?\\n\\n**Resposta:** Pra\\303\\247a da Liberdade\"\n",
              " }\n",
              " role: \"model\"]"
            ]
          },
          "metadata": {},
          "execution_count": 20
        }
      ]
    },
    {
      "cell_type": "code",
      "source": [
        "# Melhorando a visualização\n",
        "# Código disponível em https://ai.google.dev/tutorials/python_quickstart#import_packages\n",
        "\n",
        "import textwrap\n",
        "from IPython.display import display\n",
        "from IPython.display import Markdown\n",
        "\n",
        "def to_markdown(text):\n",
        "  text = text.replace('.', '. ')\n",
        "  return Markdown(textwrap.indent(text, '> ', predicate=lambda _: True))\n",
        "\n",
        "# Imprimindo o histórico\n",
        "for message in chat.history:\n",
        "  display(to_markdown(f\"***({message.role})**: ({message.parts[0].text})\"))\n",
        "  print('------------------------------------------------')"
      ],
      "metadata": {
        "colab": {
          "base_uri": "https://localhost:8080/",
          "height": 1000
        },
        "id": "iwHAGySAGETc",
        "outputId": "741ac62f-37f1-4d28-8c4c-b2516ee817cf"
      },
      "execution_count": 21,
      "outputs": [
        {
          "output_type": "display_data",
          "data": {
            "text/plain": [
              "<IPython.core.display.Markdown object>"
            ],
            "text/markdown": "> ***(user)**: (Qual a capital de minas gerais?)"
          },
          "metadata": {}
        },
        {
          "output_type": "stream",
          "name": "stdout",
          "text": [
            "------------------------------------------------\n"
          ]
        },
        {
          "output_type": "display_data",
          "data": {
            "text/plain": [
              "<IPython.core.display.Markdown object>"
            ],
            "text/markdown": "> ***(model)**: (Belo Horizonte)"
          },
          "metadata": {}
        },
        {
          "output_type": "stream",
          "name": "stdout",
          "text": [
            "------------------------------------------------\n"
          ]
        },
        {
          "output_type": "display_data",
          "data": {
            "text/plain": [
              "<IPython.core.display.Markdown object>"
            ],
            "text/markdown": "> ***(user)**: (Quais os pontos turísticos deveria visitar?)"
          },
          "metadata": {}
        },
        {
          "output_type": "stream",
          "name": "stdout",
          "text": [
            "------------------------------------------------\n"
          ]
        },
        {
          "output_type": "display_data",
          "data": {
            "text/plain": [
              "<IPython.core.display.Markdown object>"
            ],
            "text/markdown": "> ***(model)**: (**Principais pontos turísticos de Belo Horizonte:**\n> \n> * **Praça da Liberdade:** Um amplo espaço público com jardins bem cuidados, museus e prédios históricos. \n> * **Conjunto Arquitetônico da Pampulha:** Um complexo modernista projetado por Oscar Niemeyer, incluindo a Igreja de São Francisco de Assis e o Museu de Arte da Pampulha. \n> * **Mercado Central:** Um movimentado mercado com uma ampla variedade de produtos locais, artesanato e iguarias. \n> * **Parque Municipal:** Um vasto parque urbano com trilhas para caminhada, lagos e jardins botânicos. \n> * **Museu das Minas e do Metal:** Um museu que exibe a história da mineração e da metalurgia em Minas Gerais. \n> * **Museu de Arte da Pampulha:** Um museu de arte moderna e contemporânea localizado no Conjunto Arquitetônico da Pampulha. \n> * **Estádio Mineirão:** Um dos maiores estádios de futebol do Brasil, que sediou jogos da Copa do Mundo da FIFA. \n> * **Rua Sapucaí:** Uma rua movimentada conhecida por sua vida noturna e bares. \n> * **Feira Hippie da Afonso Pena:** Uma feira de artesanato e produtos locais realizada aos domingos. \n> * **Bairro Savassi:** Um bairro elegante com lojas, restaurantes e galerias de arte. )"
          },
          "metadata": {}
        },
        {
          "output_type": "stream",
          "name": "stdout",
          "text": [
            "------------------------------------------------\n"
          ]
        },
        {
          "output_type": "display_data",
          "data": {
            "text/plain": [
              "<IPython.core.display.Markdown object>"
            ],
            "text/markdown": "> ***(user)**: (Estou fazendo um teste)"
          },
          "metadata": {}
        },
        {
          "output_type": "stream",
          "name": "stdout",
          "text": [
            "------------------------------------------------\n"
          ]
        },
        {
          "output_type": "display_data",
          "data": {
            "text/plain": [
              "<IPython.core.display.Markdown object>"
            ],
            "text/markdown": "> ***(model)**: (**Teste sobre Belo Horizonte**\n> \n> **Pergunta:** Qual é a capital de Minas Gerais?\n> \n> **Resposta:** Belo Horizonte\n> \n> **Pergunta:** Cite um ponto turístico famoso de Belo Horizonte. \n> \n> **Resposta:** Praça da Liberdade, Conjunto Arquitetônico da Pampulha, Mercado Central, Parque Municipal, Museu das Minas e do Metal, Museu de Arte da Pampulha, Estádio Mineirão, Rua Sapucaí, Feira Hippie da Afonso Pena, Bairro Savassi (qualquer um desses é uma resposta aceitável)\n> \n> **Pergunta:** Quem projetou o Conjunto Arquitetônico da Pampulha?\n> \n> **Resposta:** Oscar Niemeyer\n> \n> **Pergunta:** Qual é o nome do grande parque urbano de Belo Horizonte?\n> \n> **Resposta:** Parque Municipal\n> \n> **Pergunta:** Em que rua fica a movimentada vida noturna de Belo Horizonte?\n> \n> **Resposta:** Rua Sapucaí\n> \n> **Pergunta:** Qual é o nome do museu que exibe a história da mineração e da metalurgia em Minas Gerais?\n> \n> **Resposta:** Museu das Minas e do Metal\n> \n> **Pergunta:** Qual é o nome do estádio de futebol de Belo Horizonte que sediou jogos da Copa do Mundo da FIFA?\n> \n> **Resposta:** Estádio Mineirão\n> \n> **Pergunta:** Em que dia da semana acontece a Feira Hippie da Afonso Pena?\n> \n> **Resposta:** Domingos\n> \n> **Pergunta:** Qual é o bairro elegante de Belo Horizonte conhecido por suas lojas, restaurantes e galerias de arte?\n> \n> **Resposta:** Bairro Savassi\n> \n> **Pergunta:** Qual é o nome da ampla praça pública com jardins bem cuidados, museus e prédios históricos em Belo Horizonte?\n> \n> **Resposta:** Praça da Liberdade)"
          },
          "metadata": {}
        },
        {
          "output_type": "stream",
          "name": "stdout",
          "text": [
            "------------------------------------------------\n"
          ]
        }
      ]
    }
  ]
}